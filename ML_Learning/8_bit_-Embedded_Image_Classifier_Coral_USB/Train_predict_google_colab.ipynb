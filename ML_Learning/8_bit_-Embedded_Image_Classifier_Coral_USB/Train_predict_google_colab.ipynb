{
  "nbformat": 4,
  "nbformat_minor": 0,
  "metadata": {
    "colab": {
      "name": "Untitled11.ipynb",
      "provenance": [],
      "collapsed_sections": []
    },
    "kernelspec": {
      "name": "python3",
      "display_name": "Python 3"
    }
  },
  "cells": [
    {
      "cell_type": "code",
      "metadata": {
        "id": "yfZjssaknUs0",
        "colab_type": "code",
        "outputId": "e5b12403-fc2d-433b-b44a-e264c6f5805c",
        "colab": {
          "base_uri": "https://localhost:8080/",
          "height": 125
        }
      },
      "source": [
        "from google.colab import drive\n",
        "drive.mount('/content/gdrive')\n",
        "\n",
        "\n"
      ],
      "execution_count": 0,
      "outputs": [
        {
          "output_type": "stream",
          "text": [
            "Go to this URL in a browser: https://accounts.google.com/o/oauth2/auth?client_id=947318989803-6bn6qk8qdgf4n4g3pfee6491hc0brc4i.apps.googleusercontent.com&redirect_uri=urn%3aietf%3awg%3aoauth%3a2.0%3aoob&response_type=code&scope=email%20https%3a%2f%2fwww.googleapis.com%2fauth%2fdocs.test%20https%3a%2f%2fwww.googleapis.com%2fauth%2fdrive%20https%3a%2f%2fwww.googleapis.com%2fauth%2fdrive.photos.readonly%20https%3a%2f%2fwww.googleapis.com%2fauth%2fpeopleapi.readonly\n",
            "\n",
            "Enter your authorization code:\n",
            "··········\n",
            "Mounted at /content/gdrive\n"
          ],
          "name": "stdout"
        }
      ]
    },
    {
      "cell_type": "code",
      "metadata": {
        "id": "N6NhYLBSnpVO",
        "colab_type": "code",
        "colab": {}
      },
      "source": [
        "import os\n",
        "os.chdir('/content/gdrive/My Drive/Google_Colab/cats_dogs_project/')\n",
        "\n"
      ],
      "execution_count": 0,
      "outputs": []
    },
    {
      "cell_type": "code",
      "metadata": {
        "id": "WdHj_94GomrO",
        "colab_type": "code",
        "colab": {}
      },
      "source": [
        "\n",
        "import dataset\n",
        "import tensorflow as tf\n",
        "import time\n",
        "from datetime import timedelta\n",
        "import math\n",
        "import random\n",
        "import numpy as np\n"
      ],
      "execution_count": 0,
      "outputs": []
    },
    {
      "cell_type": "code",
      "metadata": {
        "id": "gZW_iXbioumD",
        "colab_type": "code",
        "colab": {}
      },
      "source": [
        "# Adding Seed so that random initialization is consistent\n",
        "from numpy.random import seed\n",
        "\n",
        "seed(1)\n",
        "from tensorflow import set_random_seed\n",
        "\n",
        "set_random_seed(2)\n",
        "\n",
        "batch_size = 32\n"
      ],
      "execution_count": 0,
      "outputs": []
    },
    {
      "cell_type": "code",
      "metadata": {
        "id": "EiALY9Xszx4g",
        "colab_type": "code",
        "colab": {}
      },
      "source": [
        "# Prepare input data\n",
        "classes = os.listdir('training_data')\n",
        "num_classes = len(classes)\n",
        "\n",
        "\n"
      ],
      "execution_count": 0,
      "outputs": []
    },
    {
      "cell_type": "code",
      "metadata": {
        "id": "xEnEqbEN0BBd",
        "colab_type": "code",
        "colab": {}
      },
      "source": [
        "# 20% of the data will automatically be used for validation\n",
        "validation_size = 0.2\n",
        "img_size = 128\n",
        "num_channels = 3\n",
        "train_path = 'training_data'\n",
        "\n",
        "\n"
      ],
      "execution_count": 0,
      "outputs": []
    },
    {
      "cell_type": "code",
      "metadata": {
        "id": "9_hPP1-I0H-N",
        "colab_type": "code",
        "outputId": "66aa004b-7c61-43e6-edbf-c7d439c8e6ae",
        "colab": {
          "base_uri": "https://localhost:8080/",
          "height": 123
        }
      },
      "source": [
        "# We shall load all the training and validation images and labels into memory using openCV and use that during training\n",
        "data = dataset.read_train_sets(train_path, img_size, classes, validation_size=validation_size)\n",
        "\n",
        "print(\"Complete reading input data. Will Now print a snippet of it\")\n",
        "print(\"Number of files in Training-set:\\t\\t{}\".format(len(data.train.labels)))\n",
        "print(\"Number of files in Validation-set:\\t{}\".format(len(data.valid.labels)))\n",
        "\n"
      ],
      "execution_count": 0,
      "outputs": [
        {
          "output_type": "stream",
          "text": [
            "Going to read training images\n",
            "Now going to read cats files (Index: 0)\n",
            "Now going to read dogs files (Index: 1)\n",
            "Complete reading input data. Will Now print a snippet of it\n",
            "Number of files in Training-set:\t\t1601\n",
            "Number of files in Validation-set:\t400\n"
          ],
          "name": "stdout"
        }
      ]
    },
    {
      "cell_type": "code",
      "metadata": {
        "id": "F7ZIsm1n0UKq",
        "colab_type": "code",
        "colab": {}
      },
      "source": [
        "session = tf.Session()\n",
        "x = tf.placeholder(tf.float32, shape=[None, img_size, img_size, num_channels], name='x')\n",
        "\n"
      ],
      "execution_count": 0,
      "outputs": []
    },
    {
      "cell_type": "code",
      "metadata": {
        "id": "Nj7Bq7jq0XRB",
        "colab_type": "code",
        "outputId": "fd102c0b-0d45-4ad4-b473-147d2f6ab342",
        "colab": {
          "base_uri": "https://localhost:8080/",
          "height": 90
        }
      },
      "source": [
        "## labels\n",
        "y_true = tf.placeholder(tf.float32, shape=[None, num_classes], name='y_true')\n",
        "y_true_cls = tf.argmax(y_true, dimension=1)\n",
        "\n"
      ],
      "execution_count": 0,
      "outputs": [
        {
          "output_type": "stream",
          "text": [
            "WARNING:tensorflow:From <ipython-input-30-fe72dc7fa7ae>:2: calling argmax (from tensorflow.python.ops.math_ops) with dimension is deprecated and will be removed in a future version.\n",
            "Instructions for updating:\n",
            "Use the `axis` argument instead\n"
          ],
          "name": "stdout"
        }
      ]
    },
    {
      "cell_type": "code",
      "metadata": {
        "id": "j98iha3d02mr",
        "colab_type": "code",
        "colab": {}
      },
      "source": [
        "##Network graph params\n",
        "filter_size_conv1 = 3\n",
        "num_filters_conv1 = 32\n",
        "\n",
        "filter_size_conv2 = 3\n",
        "num_filters_conv2 = 32\n",
        "\n",
        "filter_size_conv3 = 3\n",
        "num_filters_conv3 = 64\n",
        "\n",
        "fc_layer_size = 128\n",
        "\n"
      ],
      "execution_count": 0,
      "outputs": []
    },
    {
      "cell_type": "code",
      "metadata": {
        "id": "rRJ5iZWv08oj",
        "colab_type": "code",
        "colab": {}
      },
      "source": [
        "def create_weights(shape):\n",
        "    return tf.Variable(tf.truncated_normal(shape, stddev=0.05))\n",
        "\n",
        "\n",
        "def create_biases(size):\n",
        "    return tf.Variable(tf.constant(0.05, shape=[size]))\n",
        "\n"
      ],
      "execution_count": 0,
      "outputs": []
    },
    {
      "cell_type": "code",
      "metadata": {
        "id": "h85W2HL51aQN",
        "colab_type": "code",
        "colab": {}
      },
      "source": [
        "def create_convolutional_layer(input,\n",
        "                               num_input_channels,\n",
        "                               conv_filter_size,\n",
        "                               num_filters):\n",
        "    ## We shall define the weights that will be trained using create_weights function.\n",
        "    weights = create_weights(shape=[conv_filter_size, conv_filter_size, num_input_channels, num_filters])\n",
        "    ## We create biases using the create_biases function. These are also trained.\n",
        "    biases = create_biases(num_filters)\n",
        "\n",
        "    ## Creating the convolutional layer\n",
        "    layer = tf.nn.conv2d(input=input,\n",
        "                         filter=weights,\n",
        "                         strides=[1, 1, 1, 1],\n",
        "                         padding='SAME')\n",
        "\n",
        "    layer += biases\n",
        "\n",
        "    ## We shall be using max-pooling.\n",
        "    layer = tf.nn.max_pool(value=layer,\n",
        "                           ksize=[1, 2, 2, 1],\n",
        "                           strides=[1, 2, 2, 1],\n",
        "                           padding='SAME')\n",
        "    ## Output of pooling is fed to Relu which is the activation function for us.\n",
        "    layer = tf.nn.relu(layer)\n",
        "\n",
        "    return layer\n",
        "\n"
      ],
      "execution_count": 0,
      "outputs": []
    },
    {
      "cell_type": "code",
      "metadata": {
        "id": "XGTGBjWy4huo",
        "colab_type": "code",
        "colab": {}
      },
      "source": [
        "def create_flatten_layer(layer):\n",
        "    # We know that the shape of the layer will be [batch_size img_size img_size num_channels]\n",
        "    # But let's get it from the previous layer.\n",
        "    layer_shape = layer.get_shape()\n",
        "\n",
        "    ## Number of features will be img_height * img_width* num_channels. But we shall calculate it in place of hard-coding it.\n",
        "    num_features = layer_shape[1:4].num_elements()\n",
        "\n",
        "    ## Now, we Flatten the layer so we shall have to reshape to num_features\n",
        "    layer = tf.reshape(layer, [-1, num_features])\n",
        "\n",
        "    return layer\n",
        "\n"
      ],
      "execution_count": 0,
      "outputs": []
    },
    {
      "cell_type": "code",
      "metadata": {
        "id": "q1lYTGjK4qwG",
        "colab_type": "code",
        "colab": {}
      },
      "source": [
        "def create_fc_layer(input,\n",
        "                    num_inputs,\n",
        "                    num_outputs,\n",
        "                    use_relu=True):\n",
        "    # Let's define trainable weights and biases.\n",
        "    weights = create_weights(shape=[num_inputs, num_outputs])\n",
        "    biases = create_biases(num_outputs)\n",
        "\n",
        "    # Fully connected layer takes input x and produces wx+b.Since, these are matrices, we use matmul function in Tensorflow\n",
        "    layer = tf.matmul(input, weights) + biases\n",
        "    if use_relu:\n",
        "        layer = tf.nn.relu(layer)\n",
        "\n",
        "    return layer\n",
        "\n",
        "\n"
      ],
      "execution_count": 0,
      "outputs": []
    },
    {
      "cell_type": "code",
      "metadata": {
        "id": "6On0NYNg5G_-",
        "colab_type": "code",
        "colab": {}
      },
      "source": [
        "layer_conv1 = create_convolutional_layer(input=x,\n",
        "                                         num_input_channels=num_channels,\n",
        "                                         conv_filter_size=filter_size_conv1,\n",
        "                                         num_filters=num_filters_conv1)\n",
        "layer_conv2 = create_convolutional_layer(input=layer_conv1,\n",
        "                                         num_input_channels=num_filters_conv1,\n",
        "                                         conv_filter_size=filter_size_conv2,\n",
        "                                         num_filters=num_filters_conv2)\n",
        "\n",
        "layer_conv3 = create_convolutional_layer(input=layer_conv2,\n",
        "                                         num_input_channels=num_filters_conv2,\n",
        "                                         conv_filter_size=filter_size_conv3,\n",
        "                                         num_filters=num_filters_conv3)\n",
        "\n",
        "layer_flat = create_flatten_layer(layer_conv3)\n",
        "\n",
        "layer_fc1 = create_fc_layer(input=layer_flat,\n",
        "                            num_inputs=layer_flat.get_shape()[1:4].num_elements(),\n",
        "                            num_outputs=fc_layer_size,\n",
        "                            use_relu=True)\n",
        "\n",
        "layer_fc2 = create_fc_layer(input=layer_fc1,\n",
        "                            num_inputs=fc_layer_size,\n",
        "                            num_outputs=num_classes,\n",
        "                            use_relu=False)\n",
        "\n"
      ],
      "execution_count": 0,
      "outputs": []
    },
    {
      "cell_type": "code",
      "metadata": {
        "id": "3aCN6Wfi5L56",
        "colab_type": "code",
        "outputId": "fc2a239e-0453-41be-848d-34aa896c70fd",
        "colab": {
          "base_uri": "https://localhost:8080/",
          "height": 178
        }
      },
      "source": [
        "y_pred = tf.nn.softmax(layer_fc2, name='y_pred')\n",
        "\n",
        "y_pred_cls = tf.argmax(y_pred, dimension=1)\n",
        "session.run(tf.global_variables_initializer())\n",
        "cross_entropy = tf.nn.softmax_cross_entropy_with_logits(logits=layer_fc2,\n",
        "                                                        labels=y_true)\n",
        "cost = tf.reduce_mean(cross_entropy)\n",
        "optimizer = tf.train.AdamOptimizer(learning_rate=1e-4).minimize(cost)\n",
        "correct_prediction = tf.equal(y_pred_cls, y_true_cls)\n",
        "accuracy = tf.reduce_mean(tf.cast(correct_prediction, tf.float32))\n",
        "\n",
        "session.run(tf.global_variables_initializer())\n",
        "\n"
      ],
      "execution_count": 0,
      "outputs": [
        {
          "output_type": "stream",
          "text": [
            "WARNING:tensorflow:From <ipython-input-37-45d56e32b397>:6: softmax_cross_entropy_with_logits (from tensorflow.python.ops.nn_ops) is deprecated and will be removed in a future version.\n",
            "Instructions for updating:\n",
            "\n",
            "Future major versions of TensorFlow will allow gradients to flow\n",
            "into the labels input on backprop by default.\n",
            "\n",
            "See `tf.nn.softmax_cross_entropy_with_logits_v2`.\n",
            "\n"
          ],
          "name": "stdout"
        }
      ]
    },
    {
      "cell_type": "code",
      "metadata": {
        "id": "Z_KqfAkl5STx",
        "colab_type": "code",
        "colab": {}
      },
      "source": [
        "\n",
        "def show_progress(epoch, feed_dict_train, feed_dict_validate, val_loss):\n",
        "    acc = session.run(accuracy, feed_dict=feed_dict_train)\n",
        "    val_acc = session.run(accuracy, feed_dict=feed_dict_validate)\n",
        "    msg = \"Training Epoch {0} --- Training Accuracy: {1:>6.1%}, Validation Accuracy: {2:>6.1%},  Validation Loss: {3:.3f}\"\n",
        "    print(msg.format(epoch + 1, acc, val_acc, val_loss))\n",
        "    \n"
      ],
      "execution_count": 0,
      "outputs": []
    },
    {
      "cell_type": "code",
      "metadata": {
        "id": "DW06hare5WI6",
        "colab_type": "code",
        "colab": {}
      },
      "source": [
        "total_iterations = 0\n",
        "\n",
        "saver = tf.train.Saver()\n",
        "\n"
      ],
      "execution_count": 0,
      "outputs": []
    },
    {
      "cell_type": "code",
      "metadata": {
        "id": "o9X1RI3l5YXy",
        "colab_type": "code",
        "colab": {}
      },
      "source": [
        "def train(num_iteration):\n",
        "    global total_iterations\n",
        "\n",
        "    for i in range(total_iterations,\n",
        "                   total_iterations + num_iteration):\n",
        "\n",
        "        x_batch, y_true_batch, _, cls_batch = data.train.next_batch(batch_size)\n",
        "        x_valid_batch, y_valid_batch, _, valid_cls_batch = data.valid.next_batch(batch_size)\n",
        "\n",
        "        feed_dict_tr = {x: x_batch,\n",
        "                        y_true: y_true_batch}\n",
        "        feed_dict_val = {x: x_valid_batch,\n",
        "                         y_true: y_valid_batch}\n",
        "\n",
        "        session.run(optimizer, feed_dict=feed_dict_tr)\n",
        "\n",
        "        if i % int(data.train.num_examples / batch_size) == 0:\n",
        "            val_loss = session.run(cost, feed_dict=feed_dict_val)\n",
        "            epoch = int(i / int(data.train.num_examples / batch_size))\n",
        "\n",
        "            show_progress(epoch, feed_dict_tr, feed_dict_val, val_loss)\n",
        "            saver.save(session, 'dogs-cats-model')\n",
        "\n",
        "    total_iterations += num_iteration\n",
        "\n",
        "\n",
        "\n"
      ],
      "execution_count": 0,
      "outputs": []
    },
    {
      "cell_type": "code",
      "metadata": {
        "id": "aXtC3Lrq5fEW",
        "colab_type": "code",
        "outputId": "bcd3e20b-60ef-467d-f194-84b72fcb3b57",
        "colab": {
          "base_uri": "https://localhost:8080/",
          "height": 1000
        }
      },
      "source": [
        "train(num_iteration=3000)\n",
        "\n"
      ],
      "execution_count": 0,
      "outputs": [
        {
          "output_type": "stream",
          "text": [
            "Training Epoch 3 --- Training Accuracy:  50.0%, Validation Accuracy:  59.4%,  Validation Loss: 0.676\n",
            "Training Epoch 4 --- Training Accuracy:  53.1%, Validation Accuracy:  46.9%,  Validation Loss: 0.714\n",
            "Training Epoch 5 --- Training Accuracy:  56.2%, Validation Accuracy:  53.1%,  Validation Loss: 0.697\n",
            "Training Epoch 6 --- Training Accuracy:  62.5%, Validation Accuracy:  53.1%,  Validation Loss: 0.677\n",
            "Training Epoch 7 --- Training Accuracy:  65.6%, Validation Accuracy:  68.8%,  Validation Loss: 0.600\n",
            "Training Epoch 8 --- Training Accuracy:  62.5%, Validation Accuracy:  53.1%,  Validation Loss: 0.656\n",
            "Training Epoch 9 --- Training Accuracy:  71.9%, Validation Accuracy:  71.9%,  Validation Loss: 0.721\n",
            "Training Epoch 10 --- Training Accuracy:  71.9%, Validation Accuracy:  56.2%,  Validation Loss: 0.625\n",
            "Training Epoch 11 --- Training Accuracy:  71.9%, Validation Accuracy:  65.6%,  Validation Loss: 0.632\n",
            "Training Epoch 12 --- Training Accuracy:  68.8%, Validation Accuracy:  75.0%,  Validation Loss: 0.576\n",
            "Training Epoch 13 --- Training Accuracy:  68.8%, Validation Accuracy:  71.9%,  Validation Loss: 0.568\n",
            "Training Epoch 14 --- Training Accuracy:  68.8%, Validation Accuracy:  50.0%,  Validation Loss: 0.657\n",
            "Training Epoch 15 --- Training Accuracy:  68.8%, Validation Accuracy:  71.9%,  Validation Loss: 0.689\n",
            "Training Epoch 16 --- Training Accuracy:  68.8%, Validation Accuracy:  62.5%,  Validation Loss: 0.616\n",
            "Training Epoch 17 --- Training Accuracy:  68.8%, Validation Accuracy:  62.5%,  Validation Loss: 0.578\n",
            "Training Epoch 18 --- Training Accuracy:  71.9%, Validation Accuracy:  71.9%,  Validation Loss: 0.533\n",
            "Training Epoch 19 --- Training Accuracy:  78.1%, Validation Accuracy:  68.8%,  Validation Loss: 0.580\n",
            "Training Epoch 20 --- Training Accuracy:  78.1%, Validation Accuracy:  59.4%,  Validation Loss: 0.690\n",
            "Training Epoch 21 --- Training Accuracy:  78.1%, Validation Accuracy:  75.0%,  Validation Loss: 0.634\n",
            "Training Epoch 22 --- Training Accuracy:  81.2%, Validation Accuracy:  62.5%,  Validation Loss: 0.661\n",
            "Training Epoch 23 --- Training Accuracy:  81.2%, Validation Accuracy:  68.8%,  Validation Loss: 0.553\n",
            "Training Epoch 24 --- Training Accuracy:  84.4%, Validation Accuracy:  68.8%,  Validation Loss: 0.543\n",
            "Training Epoch 25 --- Training Accuracy:  84.4%, Validation Accuracy:  75.0%,  Validation Loss: 0.597\n",
            "Training Epoch 26 --- Training Accuracy:  87.5%, Validation Accuracy:  65.6%,  Validation Loss: 0.752\n",
            "Training Epoch 27 --- Training Accuracy:  87.5%, Validation Accuracy:  75.0%,  Validation Loss: 0.611\n",
            "Training Epoch 28 --- Training Accuracy:  90.6%, Validation Accuracy:  62.5%,  Validation Loss: 0.730\n",
            "Training Epoch 29 --- Training Accuracy:  93.8%, Validation Accuracy:  71.9%,  Validation Loss: 0.571\n",
            "Training Epoch 30 --- Training Accuracy:  93.8%, Validation Accuracy:  68.8%,  Validation Loss: 0.605\n",
            "Training Epoch 31 --- Training Accuracy:  93.8%, Validation Accuracy:  81.2%,  Validation Loss: 0.617\n",
            "Training Epoch 32 --- Training Accuracy:  96.9%, Validation Accuracy:  65.6%,  Validation Loss: 0.876\n",
            "Training Epoch 33 --- Training Accuracy:  96.9%, Validation Accuracy:  78.1%,  Validation Loss: 0.667\n",
            "Training Epoch 34 --- Training Accuracy:  96.9%, Validation Accuracy:  62.5%,  Validation Loss: 0.883\n",
            "Training Epoch 35 --- Training Accuracy:  96.9%, Validation Accuracy:  71.9%,  Validation Loss: 0.648\n",
            "Training Epoch 36 --- Training Accuracy:  96.9%, Validation Accuracy:  65.6%,  Validation Loss: 0.718\n",
            "Training Epoch 37 --- Training Accuracy:  96.9%, Validation Accuracy:  81.2%,  Validation Loss: 0.647\n",
            "Training Epoch 38 --- Training Accuracy: 100.0%, Validation Accuracy:  62.5%,  Validation Loss: 1.105\n",
            "Training Epoch 39 --- Training Accuracy: 100.0%, Validation Accuracy:  78.1%,  Validation Loss: 0.767\n",
            "Training Epoch 40 --- Training Accuracy: 100.0%, Validation Accuracy:  59.4%,  Validation Loss: 1.142\n",
            "Training Epoch 41 --- Training Accuracy: 100.0%, Validation Accuracy:  68.8%,  Validation Loss: 0.775\n",
            "Training Epoch 42 --- Training Accuracy: 100.0%, Validation Accuracy:  65.6%,  Validation Loss: 0.881\n",
            "Training Epoch 43 --- Training Accuracy: 100.0%, Validation Accuracy:  84.4%,  Validation Loss: 0.685\n",
            "Training Epoch 44 --- Training Accuracy: 100.0%, Validation Accuracy:  62.5%,  Validation Loss: 1.380\n",
            "Training Epoch 45 --- Training Accuracy: 100.0%, Validation Accuracy:  75.0%,  Validation Loss: 0.946\n",
            "Training Epoch 46 --- Training Accuracy: 100.0%, Validation Accuracy:  62.5%,  Validation Loss: 1.437\n",
            "Training Epoch 47 --- Training Accuracy: 100.0%, Validation Accuracy:  68.8%,  Validation Loss: 0.961\n",
            "Training Epoch 48 --- Training Accuracy:  96.9%, Validation Accuracy:  62.5%,  Validation Loss: 1.051\n",
            "Training Epoch 49 --- Training Accuracy:  96.9%, Validation Accuracy:  75.0%,  Validation Loss: 0.618\n",
            "Training Epoch 50 --- Training Accuracy:  93.8%, Validation Accuracy:  65.6%,  Validation Loss: 1.467\n",
            "Training Epoch 51 --- Training Accuracy: 100.0%, Validation Accuracy:  81.2%,  Validation Loss: 0.886\n",
            "Training Epoch 52 --- Training Accuracy: 100.0%, Validation Accuracy:  65.6%,  Validation Loss: 1.380\n",
            "Training Epoch 53 --- Training Accuracy:  96.9%, Validation Accuracy:  71.9%,  Validation Loss: 0.949\n",
            "Training Epoch 54 --- Training Accuracy:  93.8%, Validation Accuracy:  56.2%,  Validation Loss: 1.133\n",
            "Training Epoch 55 --- Training Accuracy: 100.0%, Validation Accuracy:  68.8%,  Validation Loss: 0.708\n",
            "Training Epoch 56 --- Training Accuracy: 100.0%, Validation Accuracy:  68.8%,  Validation Loss: 1.346\n",
            "Training Epoch 57 --- Training Accuracy: 100.0%, Validation Accuracy:  78.1%,  Validation Loss: 1.028\n",
            "Training Epoch 58 --- Training Accuracy: 100.0%, Validation Accuracy:  65.6%,  Validation Loss: 1.332\n",
            "Training Epoch 59 --- Training Accuracy:  96.9%, Validation Accuracy:  62.5%,  Validation Loss: 1.207\n",
            "Training Epoch 60 --- Training Accuracy: 100.0%, Validation Accuracy:  65.6%,  Validation Loss: 1.296\n",
            "Training Epoch 61 --- Training Accuracy: 100.0%, Validation Accuracy:  81.2%,  Validation Loss: 0.992\n",
            "Training Epoch 62 --- Training Accuracy: 100.0%, Validation Accuracy:  65.6%,  Validation Loss: 1.381\n"
          ],
          "name": "stdout"
        }
      ]
    },
    {
      "cell_type": "code",
      "metadata": {
        "id": "TXqZ99CcRLeg",
        "colab_type": "code",
        "colab": {}
      },
      "source": [
        "\n",
        "import cv2\n",
        "\n"
      ],
      "execution_count": 0,
      "outputs": []
    },
    {
      "cell_type": "code",
      "metadata": {
        "id": "_MXawT5jTUoh",
        "colab_type": "code",
        "colab": {}
      },
      "source": [
        "image_size = 128\n",
        "num_channels = 3\n",
        "images = []\n",
        "filename = 'testing_data/dogs/dog.1506.jpg'\n",
        "\n",
        "# reading the image using openCV\n",
        "image = cv2.imread(filename)\n",
        " # Resizing image to our desired size\n",
        "\n",
        "image = cv2.resize(image, (image_size, image_size), 0, 0, cv2.INTER_LINEAR)\n",
        "\n",
        "images.append(image)\n",
        "images = np.array(images, dtype=np.uint8)\n",
        "images = images.astype('float32')\n",
        "images = np.multiply(images, 1.0/255)\n",
        "\n",
        "# the input to the network is of shape[ None image_size image_size num_channels]\n",
        "x_batch = images.reshape(1, image_size, image_size, num_channels)\n",
        "\n",
        "\n"
      ],
      "execution_count": 0,
      "outputs": []
    },
    {
      "cell_type": "code",
      "metadata": {
        "id": "DGI8Lq1jVLXQ",
        "colab_type": "code",
        "outputId": "dce7d352-de51-43a1-9282-a18091885f45",
        "colab": {
          "base_uri": "https://localhost:8080/",
          "height": 52
        }
      },
      "source": [
        "# restored the saved model\n",
        "sess = tf.Session()\n",
        "\n",
        "# Step-1: Recreate the network graph\n",
        "saver = tf.train.import_meta_graph('dogs-cats-model.meta')\n",
        "\n",
        "# Step-2; Load the weights saved using the restore method\n",
        "saver.restore(sess, tf.train.latest_checkpoint('./'))\n",
        "\n",
        "# Accessing the default graph which we have restored\n",
        "graph = tf.get_default_graph()\n",
        "\n",
        "# y_pred\n",
        "y_pred = graph.get_tensor_by_name(\"y_pred:0\")\n",
        "\n",
        "# feed the images to the input placehoders\n",
        "\n",
        "x = graph.get_tensor_by_name(\"x:0\")\n",
        "y_true = graph.get_tensor_by_name(\"y_true:0\")\n",
        "y_test_images = np.zeros((1, len(os.listdir('training_data'))))\n",
        "\n",
        "# Creating the feed_dict that is required to be fed to calculate y_pred\n",
        "feed_dict_testing = {x: x_batch, y_true: y_test_images}\n",
        "result = sess.run(y_pred, feed_dict_testing)\n",
        "\n",
        "print(result)\n",
        "\n",
        "\n"
      ],
      "execution_count": 0,
      "outputs": [
        {
          "output_type": "stream",
          "text": [
            "INFO:tensorflow:Restoring parameters from ./dogs-cats-model\n",
            "[[0.39060235 0.6093977 ]]\n"
          ],
          "name": "stdout"
        }
      ]
    },
    {
      "cell_type": "code",
      "metadata": {
        "id": "0DDSX70wvQBV",
        "colab_type": "code",
        "outputId": "92dcf30d-69c8-473f-b07b-2c7c21c78c29",
        "colab": {
          "base_uri": "https://localhost:8080/",
          "height": 70
        }
      },
      "source": [
        "%load_ext tensorboard\n",
        "\n",
        "from __future__ import absolute_import\n",
        "from __future__ import division\n",
        "from __future__ import print_function\n",
        "\n",
        "from datetime import datetime\n",
        "from packaging import version\n",
        "\n",
        "import tensorflow as tf\n",
        "from tensorflow import keras\n",
        "\n",
        "print(\"TensorFlow version: \", tf.__version__)"
      ],
      "execution_count": 0,
      "outputs": [
        {
          "output_type": "stream",
          "text": [
            "The tensorboard extension is already loaded. To reload it, use:\n",
            "  %reload_ext tensorboard\n",
            "TensorFlow version:  1.15.0\n"
          ],
          "name": "stdout"
        }
      ]
    }
  ]
}
